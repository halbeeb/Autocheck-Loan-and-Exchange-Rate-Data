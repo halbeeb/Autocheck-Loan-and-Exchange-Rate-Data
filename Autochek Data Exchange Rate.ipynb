{
 "cells": [
  {
   "cell_type": "markdown",
   "id": "a2da4805",
   "metadata": {},
   "source": [
    "## Obtain Data Exchange Rate of AutoChek Presence Country\n",
    "\n",
    "\n",
    "> Writing a scheduling function script that pull the data and save in this format, timestamp, \n",
    "which is the datetime in which the record was pulled, currency_from, which is the currency you are \n",
    "converting from (should always be USD), USD_to_currency_rate for Nigeria, Ghana,\n",
    "Kenya, Uganda, Morocco, Côte d'Ivoire and Egypt.\n"
   ]
  },
  {
   "cell_type": "code",
   "execution_count": 1,
   "id": "5c1bbee6",
   "metadata": {},
   "outputs": [],
   "source": [
    "#Import the package necessary to carry out the data analysis\n",
    "import requests\n",
    "import datetime\n",
    "import pandas as pd\n",
    "import schedule\n",
    "import time"
   ]
  },
  {
   "cell_type": "code",
   "execution_count": 3,
   "id": "54038a80",
   "metadata": {},
   "outputs": [
    {
     "name": "stdout",
     "output_type": "stream",
     "text": [
      "Collecting schedule\n",
      "  Downloading schedule-1.2.1-py2.py3-none-any.whl (11 kB)\n",
      "Installing collected packages: schedule\n",
      "Successfully installed schedule-1.2.1\n",
      "Note: you may need to restart the kernel to use updated packages.\n"
     ]
    }
   ],
   "source": [
    "pip install schedule"
   ]
  },
  {
   "cell_type": "code",
   "execution_count": 3,
   "id": "2cf14f29",
   "metadata": {},
   "outputs": [],
   "source": [
    "def fetch_exchange_rates():\n",
    "    api_url = \"https://xecdapi.xe.com/v1/convert_from.json/\"\n",
    "    headers = {\"Authorization\": \"Basic [Your-API-Key]\"}\n",
    "    params = {\n",
    "        \"from\": \"USD\",\n",
    "        \"to\": \"NGN,GHS,KES,UGX,MAD,XOF,EGP\",\n",
    "        \"amount\": 1\n",
    "    }\n",
    "\n",
    "    response = requests.get(api_url, headers=headers, params=params)\n",
    "    data = response.json()\n",
    "\n",
    "    rates = []\n",
    "    for rate in data['to']:\n",
    "        timestamp = datetime.datetime.now()\n",
    "        currency_from = \"USD\"\n",
    "        USD_to_currency_rate = rate['mid']\n",
    "        currency_to = rate['quotecurrency']\n",
    "        currency_to_USD_rate = 1 / rate['mid'] if rate['mid'] != 0 else None\n",
    "\n",
    "        rates.append([timestamp, currency_from, USD_to_currency_rate, currency_to_USD_rate, currency_to])\n",
    "\n",
    "    df = pd.DataFrame(rates, columns=['timestamp', 'currency_from', 'USD_to_currency_rate', 'currency_to_USD_rate', 'currency_to'])\n",
    "    df.to_csv('exchange_rates.csv', mode='a', header=False, index=False)"
   ]
  },
  {
   "cell_type": "code",
   "execution_count": null,
   "id": "589b1861",
   "metadata": {},
   "outputs": [],
   "source": [
    "# Schedule to run at 7 AM and 7 PM every day\n",
    "schedule.every().day.at(\"07:00\").do(fetch_exchange_rates)\n",
    "schedule.every().day.at(\"19:00\").do(fetch_exchange_rates)\n",
    "\n",
    "while True:\n",
    "    schedule.run_pending()\n",
    "    time.sleep(1)"
   ]
  }
 ],
 "metadata": {
  "kernelspec": {
   "display_name": "Python 3 (ipykernel)",
   "language": "python",
   "name": "python3"
  },
  "language_info": {
   "codemirror_mode": {
    "name": "ipython",
    "version": 3
   },
   "file_extension": ".py",
   "mimetype": "text/x-python",
   "name": "python",
   "nbconvert_exporter": "python",
   "pygments_lexer": "ipython3",
   "version": "3.10.9"
  }
 },
 "nbformat": 4,
 "nbformat_minor": 5
}
